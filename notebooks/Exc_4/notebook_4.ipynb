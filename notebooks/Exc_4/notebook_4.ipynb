{
  "cells": [
    {
      "cell_type": "markdown",
      "id": "950e6625",
      "metadata": {
        "id": "950e6625"
      },
      "source": [
        "# Information Processing"
      ]
    },
    {
      "cell_type": "code",
      "execution_count": 1,
      "id": "1db50cc2",
      "metadata": {
        "id": "1db50cc2"
      },
      "outputs": [],
      "source": [
        "import io\n",
        "import requests\n",
        "import numpy as np\n",
        "import matplotlib.pyplot as plt\n",
        "import ipywidgets as widgets\n",
        "import scipy\n",
        "\n",
        "# Settings for the figures\n",
        "plt.style.use(plt.style.available[20])\n",
        "plt.style.use(\"https://github.com/comp-neural-circuits/intro-to-comp-neuro/raw/dev/plots_style.txt\")"
      ]
    },
    {
      "cell_type": "markdown",
      "id": "c0888348",
      "metadata": {
        "id": "c0888348"
      },
      "source": [
        "## Section 1 - Spikes and Rates\n",
        "\n",
        "### Data retrieval\n",
        "\n",
        "We consider a subset of data from a study of [Steinmetz et al. (2019)](https://www.nature.com/articles/s41586-019-1787-x). In this study, Neuropixels probes were implanted in the brains of mice. Electrical potentials were measured by hundreds of electrodes along the length of each probe. Each electrode’s measurements captured local variations in the electric field due to nearby spiking neurons. A spike sorting algorithm was used to infer spike times and cluster spikes according to common origin: a single cluster of sorted spikes is causally attributed to a single neuron.\n",
        "\n",
        "In the experiment, mice earned water rewards by turning a wheel to indicate which of two visual gratings had higher contrast, or by not turning if no stimulus was presented\n",
        "<div>\n",
        "<img src=\"https://github.com/comp-neural-circuits/intro-to-comp-neuro/raw/dev/notebooks/Exc_4/static/task_steinmetz.png\" width=\"350\"/>\n",
        "</div>\n",
        "\n",
        "We first load the data by executing the cell below. (This can take some time)"
      ]
    },
    {
      "cell_type": "code",
      "execution_count": 2,
      "id": "431a2016",
      "metadata": {
        "id": "431a2016"
      },
      "outputs": [],
      "source": [
        "# https://github.com/nsteinme/steinmetz-et-al-2019/wiki/data-files\n",
        "\n",
        "# @title Data retrieval\n",
        "import os, requests\n",
        "\n",
        "fname = []\n",
        "for j in range(3):\n",
        "  fname.append('steinmetz_part%d.npz'%j)\n",
        "url = [\"https://osf.io/agvxh/download\"]\n",
        "url.append(\"https://osf.io/uv3mw/download\")\n",
        "url.append(\"https://osf.io/ehmw2/download\")\n",
        "\n",
        "for j in range(len(url)):\n",
        "  if not os.path.isfile(fname[j]):\n",
        "    try:\n",
        "      r = requests.get(url[j])\n",
        "    except requests.ConnectionError:\n",
        "      print(\"!!! Failed to download data !!!\")\n",
        "    else:\n",
        "      if r.status_code != requests.codes.ok:\n",
        "        print(\"!!! Failed to download data !!!\")\n",
        "      else:\n",
        "        with open(fname[j], \"wb\") as fid:\n",
        "          fid.write(r.content)"
      ]
    },
    {
      "cell_type": "code",
      "execution_count": 3,
      "id": "1f6bd6bc",
      "metadata": {
        "id": "1f6bd6bc"
      },
      "outputs": [],
      "source": [
        "# @title Data loading\n",
        "alldat = np.array([])\n",
        "for j in range(len(fname)):\n",
        "  alldat = np.hstack((alldat,\n",
        "                      np.load('steinmetz_part%d.npz'%j,\n",
        "                              allow_pickle=True)['dat']))"
      ]
    },
    {
      "cell_type": "code",
      "source": [
        "alldat[0].keys()"
      ],
      "metadata": {
        "id": "Z-slPNt96lwd",
        "outputId": "da3c5842-6810-4200-e1b7-1475801a9da4",
        "colab": {
          "base_uri": "https://localhost:8080/"
        }
      },
      "id": "Z-slPNt96lwd",
      "execution_count": 9,
      "outputs": [
        {
          "output_type": "execute_result",
          "data": {
            "text/plain": [
              "dict_keys(['spks', 'wheel', 'pupil', 'response', 'response_time', 'bin_size', 'stim_onset', 'contrast_right', 'contrast_left', 'brain_area', 'feedback_time', 'feedback_type', 'gocue', 'mouse_name', 'date_exp', 'trough_to_peak', 'active_trials', 'contrast_left_passive', 'contrast_right_passive', 'spks_passive', 'pupil_passive', 'wheel_passive', 'prev_reward', 'ccf', 'ccf_axes', 'cellid_orig', 'reaction_time', 'face', 'face_passive', 'licks', 'licks_passive'])"
            ]
          },
          "metadata": {},
          "execution_count": 9
        }
      ]
    },
    {
      "cell_type": "code",
      "source": [
        "alldat[0]['spks']"
      ],
      "metadata": {
        "id": "Q7dIgFUb6y1B",
        "outputId": "ecada399-b3e1-46cd-eba2-e738958458ec",
        "colab": {
          "base_uri": "https://localhost:8080/"
        }
      },
      "id": "Q7dIgFUb6y1B",
      "execution_count": 10,
      "outputs": [
        {
          "output_type": "execute_result",
          "data": {
            "text/plain": [
              "array([[[0, 0, 0, ..., 0, 0, 0],\n",
              "        [0, 0, 0, ..., 0, 0, 0],\n",
              "        [0, 0, 0, ..., 0, 0, 0],\n",
              "        ...,\n",
              "        [0, 0, 0, ..., 0, 0, 0],\n",
              "        [0, 0, 0, ..., 0, 0, 0],\n",
              "        [0, 0, 0, ..., 0, 0, 0]],\n",
              "\n",
              "       [[0, 0, 0, ..., 0, 0, 0],\n",
              "        [0, 0, 0, ..., 0, 0, 0],\n",
              "        [0, 0, 0, ..., 0, 0, 0],\n",
              "        ...,\n",
              "        [0, 0, 1, ..., 0, 0, 0],\n",
              "        [0, 0, 0, ..., 0, 0, 0],\n",
              "        [0, 0, 0, ..., 0, 0, 0]],\n",
              "\n",
              "       [[0, 0, 0, ..., 0, 0, 0],\n",
              "        [0, 0, 0, ..., 0, 0, 0],\n",
              "        [0, 0, 0, ..., 0, 0, 0],\n",
              "        ...,\n",
              "        [0, 0, 0, ..., 0, 0, 1],\n",
              "        [0, 0, 0, ..., 0, 0, 0],\n",
              "        [0, 0, 0, ..., 0, 0, 0]],\n",
              "\n",
              "       ...,\n",
              "\n",
              "       [[0, 0, 0, ..., 0, 0, 0],\n",
              "        [0, 0, 0, ..., 0, 0, 0],\n",
              "        [0, 0, 0, ..., 0, 0, 0],\n",
              "        ...,\n",
              "        [0, 0, 0, ..., 0, 0, 0],\n",
              "        [0, 0, 0, ..., 0, 0, 0],\n",
              "        [0, 0, 0, ..., 0, 0, 0]],\n",
              "\n",
              "       [[0, 0, 0, ..., 0, 0, 0],\n",
              "        [0, 0, 0, ..., 0, 0, 0],\n",
              "        [0, 0, 0, ..., 0, 0, 0],\n",
              "        ...,\n",
              "        [0, 0, 0, ..., 0, 0, 0],\n",
              "        [0, 0, 0, ..., 0, 0, 0],\n",
              "        [0, 0, 0, ..., 0, 0, 0]],\n",
              "\n",
              "       [[0, 0, 0, ..., 0, 0, 0],\n",
              "        [0, 0, 0, ..., 0, 0, 0],\n",
              "        [0, 0, 0, ..., 0, 0, 0],\n",
              "        ...,\n",
              "        [0, 0, 0, ..., 0, 0, 0],\n",
              "        [0, 0, 0, ..., 0, 0, 0],\n",
              "        [0, 0, 0, ..., 0, 0, 0]]], dtype=int8)"
            ]
          },
          "metadata": {},
          "execution_count": 10
        }
      ]
    },
    {
      "cell_type": "markdown",
      "id": "abb64fce",
      "metadata": {
        "id": "abb64fce"
      },
      "source": [
        "### First look at the data\n",
        "\n",
        "The dataset is rather rich (you can have a look here: [dataset information](https://github.com/nsteinme/steinmetz-et-al-2019/wiki/data-files)) we will only look a spike trains from this dataset.\n",
        "\n",
        "The data is arranged in a list, with every item in the list being a single session (one animal at a particular day).\n",
        "The data in these entries is then stored in dictionaries.\n",
        "You can create a dictionary in python with the command:\n",
        "\n",
        "```python\n",
        "example_dict = dict(\n",
        "    key_1 = 'hello',\n",
        "    another_key = [1,2,3],\n",
        ")\n",
        "\n",
        "example_dict = {\n",
        "    'key_1' : 'hello',\n",
        "    'another_key' : [1,2,3],\n",
        "}\n",
        "```\n",
        "\n",
        "You can then access the dictionary with\n",
        "\n",
        "```python\n",
        "print (example_dict['key_1'])\n",
        "```\n",
        "\n",
        "\n",
        "We are now interested in they key ['spks'].\n",
        "This gives us a numpy array of binned spike trains. the bin-size is 10 ms. The array has three dimensions:\n",
        "\n",
        "(neurons, trials, time_bins)\n",
        "\n",
        "This means for example we can get the 15th neurons response of the first trial with:\n",
        "\n",
        "```python\n",
        "alldat[1]['spks'][9,0,:]\n",
        "```\n",
        "the colon (:) means we want to take every element along that dimension\n",
        "\n"
      ]
    },
    {
      "cell_type": "code",
      "source": [
        "dat = alldat[1]\n",
        "# neurons, trials, time_bins\n",
        "print ('array shape', dat['spks'].shape)\n",
        "\n",
        "single_trial = dat['spks'][0,0,:] #neuron, #trial, #timebin(1070,251,250)"
      ],
      "metadata": {
        "id": "WjO7y8J88l3J",
        "outputId": "b279b735-24fa-4224-a464-7c5e19328552",
        "colab": {
          "base_uri": "https://localhost:8080/"
        }
      },
      "id": "WjO7y8J88l3J",
      "execution_count": 11,
      "outputs": [
        {
          "output_type": "stream",
          "name": "stdout",
          "text": [
            "array shape (1070, 251, 250)\n"
          ]
        }
      ]
    },
    {
      "cell_type": "code",
      "execution_count": 4,
      "id": "67c217b7",
      "metadata": {
        "id": "67c217b7",
        "outputId": "180a563a-5609-4261-b313-b8f56a31f735",
        "colab": {
          "base_uri": "https://localhost:8080/",
          "height": 738
        }
      },
      "outputs": [
        {
          "output_type": "stream",
          "name": "stdout",
          "text": [
            "array shape (1070, 251, 250)\n",
            "example of how the binned single trial looks like, \n",
            "       each 1 represents a spike for that particular neuron: \n",
            " [0 0 0 0 0 0 0 0 0 0 0 0 0 0 0 0 0 0 0 0 0 0 0 0 0 0 0 0 0 0 0 0 0 0 0 0 0\n",
            " 0 0 0 0 0 0 0 0 0 0 0 0 0 0 0 0 0 0 0 0 0 1 0 0 0 0 0 0 0 0 0 0 0 0 0 0 0\n",
            " 0 0 0 0 0 0 0 0 1 0 0 0 0 0 0 0 0 0 0 0 0 0 0 0 0 0 0 0 0 0 0 0 0 0 0 0 0\n",
            " 0 0 0 0 0 0 0 0 1 0 0 0 0 0 0 0 0 0 0 0 0 0 0 0 0 0 0 0 0 0 0 0 0 0 0 1 0\n",
            " 0 0 0 0 0 0 0 0 0 1 0 0 0 1 0 0 0 0 0 0 0 0 0 0 0 0 0 0 0 0 0 0 0 0 0 0 0\n",
            " 0 0 0 0 0 0 0 1 0 0 0 1 0 0 0 0 0 0 0 0 0 0 0 0 0 0 0 0 0 0 0 0 0 0 0 0 0\n",
            " 0 0 0 0 0 0 0 0 0 0 0 1 0 0 0 1 0 0 0 0 0 1 0 0 1 0 0 0]\n"
          ]
        },
        {
          "output_type": "display_data",
          "data": {
            "text/plain": [
              "<Figure size 800x600 with 1 Axes>"
            ],
            "image/png": "[encoded data removed]"
          },
          "metadata": {}
        }
      ],
      "source": [
        "dat = alldat[1]\n",
        "# neurons, trials, time_bins\n",
        "print ('array shape', dat['spks'].shape)\n",
        "\n",
        "single_trial = dat['spks'][0,0,:]\n",
        "\n",
        "print ('''example of how the binned single trial looks like,\n",
        "       each 1 represents a spike for that particular neuron: \\n''', single_trial)\n",
        "\n",
        "def transform_to_event_input(binned_spikes):\n",
        "    bin_size = 10\n",
        "    bin_offset = 5\n",
        "    n_bins = len(binned_spikes)\n",
        "    bin_times = np.linspace(bin_offset,\n",
        "                            n_bins*bin_size-(bin_size-bin_offset),\n",
        "                            n_bins)\n",
        "    spike_times = binned_spikes * bin_times\n",
        "    spike_times = spike_times[spike_times != 0]\n",
        "    return bin_times, spike_times\n",
        "\n",
        "\n",
        "\n",
        "fig, ax = plt.subplots()\n",
        "\n",
        "for ii in range(0,60):\n",
        "    _, spike_times = transform_to_event_input(dat['spks'][14,ii,:])\n",
        "    ax.eventplot(spike_times, lineoffsets=ii)\n",
        "\n",
        "ax.set(\n",
        "    title = 'Spike raster',\n",
        "    xlim = (0,2500),\n",
        "    xlabel = 'Time in ms',\n",
        "    ylabel = 'Trials'\n",
        ");"
      ]
    },
    {
      "cell_type": "markdown",
      "source": [
        "How to spike in a special task/stimuli/ how it spikes and when it spikes is important -> receptive fields /orientation-> rates matter. Motor control spike timing is matter when it is spiking wheter how often it is spiking/rate."
      ],
      "metadata": {
        "id": "ra41dhSo9RX5"
      },
      "id": "ra41dhSo9RX5"
    },
    {
      "cell_type": "markdown",
      "id": "8a24b634",
      "metadata": {
        "id": "8a24b634"
      },
      "source": [
        "Spike gets weight via window functions.\n"
      ]
    },
    {
      "cell_type": "markdown",
      "id": "2473a8f9",
      "metadata": {
        "id": "2473a8f9"
      },
      "source": [
        "### Translate the spike trains into firing rates\n",
        "\n",
        "We can now smooth each spike train, by applying a filter to that spike train. Execute the two cells below, so you can try out what it looks like.  "
      ]
    },
    {
      "cell_type": "code",
      "execution_count": 12,
      "id": "f3345140",
      "metadata": {
        "id": "f3345140",
        "outputId": "ee03d608-6531-4639-a593-53ae58f85c04",
        "colab": {
          "base_uri": "https://localhost:8080/",
          "height": 405
        }
      },
      "outputs": [
        {
          "output_type": "display_data",
          "data": {
            "text/plain": [
              "<Figure size 800x400 with 1 Axes>"
            ],
            "image/png": "[encoded data removed]"
          },
          "metadata": {}
        }
      ],
      "source": [
        "def get_filter_array(\n",
        "        filter_shape = 'rectangle',\n",
        "        plot_filter_shape = False,\n",
        "        return_filter_names = False,):\n",
        "    ''' this function returns the filter array of a given shape (filter_shape) that needs to be a string'''\n",
        "\n",
        "    '''\n",
        "        when adding a new filter, be sure to update the list \"all_filter_names\" and add a new\n",
        "        if condition with the new filter name.\n",
        "    '''\n",
        "\n",
        "\n",
        "    all_filter_names = ['rectangle']\n",
        "    if return_filter_names:\n",
        "        # we implement this to make the interactive select option easiert to maintain\n",
        "        return all_filter_names\n",
        "\n",
        "    filter_array = np.array([])\n",
        "\n",
        "    if filter_shape == 'rectangle':\n",
        "        filter_array = np.ones(25) #sum up every value in the window with thw same weight\n",
        "\n",
        "\n",
        "    if filter_array.size == 0:\n",
        "        raise ValueError(f'''ERROR: The name you provided for \"filter_shape\" {filter_shape} does not match any of your if conditions.\\n\n",
        "               all possible conditions should be given as if-conditions and put in the list 'all_filter_names'.\\n\n",
        "               Current names in that list are {all_filter_names}''')\n",
        "\n",
        "    if filter_array.size %2 == 0:\n",
        "        raise ValueError(f'''FILTER LENGTH ERROR: Due to the implementation your filter needs to have an uneven length\n",
        "                your filter has lenght {filter_array.size}.''')\n",
        "\n",
        "\n",
        "\n",
        "    if plot_filter_shape:\n",
        "        fig, ax = plt.subplots(figsize=(8,4))\n",
        "        ax.plot(np.linspace(-10,0,10),np.zeros(10), c='#feb24c')\n",
        "        ax.plot(np.linspace(0,len(filter_array),len(filter_array)),filter_array, c='#cb181d', label='your filter')\n",
        "        ax.plot(np.linspace(len(filter_array),len(filter_array)+10,10),np.zeros(10), c='#feb24c')\n",
        "        ax.set(\n",
        "            title = f'Filter: {filter_shape}',\n",
        "            xlabel = 'bins',\n",
        "            ylabel = 'weight')\n",
        "        ax.legend()\n",
        "    return filter_array\n",
        "\n",
        "_ = get_filter_array(filter_shape = 'rectangle',\n",
        "                 plot_filter_shape = True)"
      ]
    },
    {
      "cell_type": "code",
      "execution_count": 6,
      "id": "b4abd2cf",
      "metadata": {
        "scrolled": false,
        "id": "b4abd2cf",
        "outputId": "541c3564-b83c-431d-eb51-deacfe1f306b",
        "colab": {
          "base_uri": "https://localhost:8080/",
          "height": 1000,
          "referenced_widgets": [
            "cfde08a6cbc04a66ab94480aa952cc6e",
            "96efbf4b91684ac48d56412d65e499e6",
            "53c79da953d24e4e8068ac6840ea1a0c",
            "e670fbebcd0940c9bcc738935a36dc8e",
            "0419ee1e95a2474aafb814ce89711a12",
            "e37e87b774de4bc18a55c8d6c35f0772",
            "7d2422790871492f9951b8c2825cb523",
            "2c2c0eb1bb274eec8fbedb1adea0cd9d",
            "d42cd1027b6044aaac79d12352f4a31d",
            "c288d3b2a02f4079bf15084ae53d3ef6",
            "fea2a436104443cb93f812df2e104cd3",
            "49fbfe2510d1432abe966030b2dbd1ab",
            "cde7fb065b634b2ebd722137fabf5490"
          ]
        }
      },
      "outputs": [
        {
          "output_type": "display_data",
          "data": {
            "text/plain": [
              "interactive(children=(IntSlider(value=125, description='pos', max=250), Dropdown(description='filter_shape', o…"
            ],
            "application/vnd.jupyter.widget-view+json": {
              "version_major": 2,
              "version_minor": 0,
              "model_id": "cfde08a6cbc04a66ab94480aa952cc6e"
            }
          },
          "metadata": {}
        },
        {
          "output_type": "display_data",
          "data": {
            "text/plain": [
              "<Figure size 800x600 with 2 Axes>"
            ],
            "image/png": "[encoded data removed]"
          },
          "metadata": {}
        },
        {
          "output_type": "display_data",
          "data": {
            "text/plain": [
              "<Figure size 800x600 with 2 Axes>"
            ],
            "image/png": "[encoded data removed]"
          },
          "metadata": {}
        },
        {
          "output_type": "display_data",
          "data": {
            "text/plain": [
              "<Figure size 800x600 with 2 Axes>"
            ],
            "image/png": "[encoded data removed]"
          },
          "metadata": {}
        },
        {
          "output_type": "display_data",
          "data": {
            "text/plain": [
              "<Figure size 800x600 with 2 Axes>"
            ],
            "image/png": "[encoded data removed]"
          },
          "metadata": {}
        },
        {
          "output_type": "display_data",
          "data": {
            "text/plain": [
              "<Figure size 800x600 with 2 Axes>"
            ],
            "image/png": "[encoded data removed]"
          },
          "metadata": {}
        }
      ],
      "source": [
        "\n",
        "def visualize_filtering(pos, filter_shape = 'rectangle', trial_number = 0):\n",
        "\n",
        "    filter_array = get_filter_array(filter_shape = filter_shape)\n",
        "\n",
        "    single_trial = dat['spks'][0,trial_number,:]\n",
        "\n",
        "\n",
        "    shift_ = 80\n",
        "    shifted_trial = np.hstack([np.zeros(shift_),single_trial, np.zeros(shift_)])\n",
        "\n",
        "    bin_times, spike_times = transform_to_event_input(single_trial)\n",
        "\n",
        "\n",
        "    fig,axes = plt.subplots(2)\n",
        "    axes[0].eventplot(spike_times, label = 'spikes')\n",
        "    axes[0].set(\n",
        "    xlim = (0,2500),\n",
        "    ylim = (-0.1,2.8))\n",
        "\n",
        "    filter_backbone = np.zeros_like(shifted_trial)\n",
        "    new_bin_times = np.hstack([np.zeros(shift_)*float('nan'),bin_times,np.zeros(shift_)*float('nan')])\n",
        "\n",
        "    shifted_pos = pos + shift_\n",
        "    filter_backbone[shifted_pos -len(filter_array)//2:shifted_pos +len(filter_array)//2+1] = filter_array\n",
        "    axes[0].plot(new_bin_times, filter_backbone, color='#feb24c', label='filter')\n",
        "    axes[0].plot([new_bin_times[shifted_pos],new_bin_times[shifted_pos]],[0,0.2],color='#de2d26', label='time point')\n",
        "    axes[0].plot([new_bin_times[shift_+2],new_bin_times[shift_+27]],[0.2,0.2],color='k')\n",
        "    axes[0].annotate('250 ms', xy=([new_bin_times[shift_+2], 0.25]),  xycoords='data',\n",
        "            xytext=([new_bin_times[shift_+5], 0.25]), textcoords='data')\n",
        "\n",
        "    axes[0].axis('off')\n",
        "    axes[0].legend()\n",
        "\n",
        "    filtered_signal = np.zeros_like(shifted_trial)\n",
        "    for ii in range(shift_,shifted_pos):\n",
        "        filtered = 100*len(filter_array) * np.mean(shifted_trial[ii-len(filter_array)//2:ii+len(filter_array)//2+1] * filter_array/np.sum(filter_array))\n",
        "        filtered_signal[ii] = filtered\n",
        "\n",
        "\n",
        "    axes[1].plot(new_bin_times, filtered_signal, label= 'rate')\n",
        "    axes[1].legend()\n",
        "    axes[1].set(\n",
        "        xlim=(0,2500),\n",
        "        xlabel = 'Time in ms',\n",
        "        ylabel = 'Firing rate in Hz',\n",
        "    )\n",
        "\n",
        "\n",
        "widgets.interactive(visualize_filtering,\n",
        "                    pos = (0,250,1),\n",
        "                    filter_shape = get_filter_array(return_filter_names = True),\n",
        "                   trial_number = (0,100,1))"
      ]
    },
    {
      "cell_type": "markdown",
      "id": "9e044b94",
      "metadata": {
        "id": "9e044b94"
      },
      "source": [
        "### Task 1\n",
        "\n",
        "Above you see how a filter of a rectangle translates the spike train into a filtered, smooth version. You can come up with your own filters.\n",
        "Think of other filters that might lead to useful insights.\n",
        "\n",
        "you can implement the filters by changing the function two blocks above\n",
        "'get_filter_array'\n",
        "\n",
        "to define a filter you need to come up with the name for the filter.\n",
        "\n",
        "1) add this name to the list 'all_filter_names'\n",
        "\n",
        "2) add an if condition below the if condition that is already there and make the condition to match your new name\n",
        "```python\n",
        "if filter_shape == 'your new name':\n",
        "        # do something\n",
        "        \n",
        "```\n",
        "\n",
        "3) now in this condition, you need to define what your filter looks like. You need to create a numpy array that is not longer than 160 elements.\n",
        "\n",
        "\n",
        "#### some examples to get started\n",
        "```python\n",
        "np.ones(10)\n",
        "```\n",
        "an array of length and all entries have the value 1.\n",
        "\n",
        "you can be very specific in your creation. For example\n",
        "```python\n",
        "filter_array = np.array([1,4,2,7,8,19,20])\n",
        "```\n",
        "creates an array of the list that is inside\n",
        "\n",
        "or you can use mathematical functions of numpy. For example:\n",
        "```python\n",
        "filter_array = np.sin(np.linspace(0,10,10))\n",
        "```\n",
        "uses the mathematical function sinus on x values that range from 0 to 10 in 10 steps\n",
        "\n",
        "#### You can always check how your new filter looks by calling:\n",
        "```python\n",
        "_ = get_filter_array(filter_shape = 'your new name',\n",
        "                 plot_filter_shape = True)\n",
        "```\n",
        "\n",
        "Once you are happy with your filter, you can run the block above again, to use your filter on the spike train.\n",
        "\n",
        "What do you think is a useful filter?\n",
        "Does the whole process makes sense? What did you create?"
      ]
    },
    {
      "cell_type": "markdown",
      "id": "eaf04146",
      "metadata": {
        "id": "eaf04146"
      },
      "source": [
        "### [Solution 1](https://raw.githubusercontent.com/comp-neural-circuits/intro-to-comp-neuro/dev/notebooks/Exc_4/solutions/e93ef538094966b69fb04ff6c8c80217.txt)\n",
        "\n",
        "\n"
      ]
    },
    {
      "cell_type": "markdown",
      "id": "b86d71a2",
      "metadata": {
        "id": "b86d71a2"
      },
      "source": [
        "#  Calculating the PSTH (Peri-stimulus histogram)\n",
        "\n",
        "\n",
        "### Task 2\n",
        "\n",
        "Now you can investigate the trial averaged response of a single neuron."
      ]
    },
    {
      "cell_type": "code",
      "execution_count": null,
      "id": "13232bd9",
      "metadata": {
        "scrolled": false,
        "id": "13232bd9",
        "outputId": "a31e8e64-de17-42a8-8d9c-f1bebb077b05",
        "colab": {
          "referenced_widgets": [
            "68ad5eec5b26494fbb74d201f7bee757"
          ]
        }
      },
      "outputs": [
        {
          "data": {
            "application/vnd.jupyter.widget-view+json": {
              "model_id": "68ad5eec5b26494fbb74d201f7bee757",
              "version_major": 2,
              "version_minor": 0
            },
            "text/plain": [
              "interactive(children=(IntSlider(value=70, description='neuron_id'), Dropdown(description='filter_shape', optio…"
            ]
          },
          "metadata": {},
          "output_type": "display_data"
        }
      ],
      "source": [
        "def multiple_trials(neuron_id = 70, filter_shape = 'large rectangle'):\n",
        "\n",
        "    fig, (ax_0, ax_1, ax_2) = plt.subplots(3,1, sharex = True, gridspec_kw={'height_ratios': [3, 1,1]})\n",
        "    n_trials = 100\n",
        "    all_trials = np.zeros_like(dat['spks'][neuron_id,0,:])\n",
        "    for trial_number in range(0,n_trials):\n",
        "        single_trial = dat['spks'][neuron_id,trial_number,:]\n",
        "        _, spike_times = transform_to_event_input(single_trial)\n",
        "        ax_0.eventplot(spike_times, lineoffsets=trial_number)\n",
        "        all_trials += single_trial\n",
        "\n",
        "    ax_0.axvline(x = 500, c ='#99000d', linewidth = 1 , linestyle = '--', label='stimulus onset')\n",
        "\n",
        "    ax_0.set(\n",
        "        xlim = (0,2500),\n",
        "        ylabel = 'Trial Number',\n",
        "    )\n",
        "    ax_0.legend()\n",
        "\n",
        "    X = np.linspace(0,2490,250)\n",
        "    ax_1.bar(X,all_trials, width=10)\n",
        "    ax_1.set(\n",
        "        ylabel = 'PSTH',\n",
        "    )\n",
        "\n",
        "    filter_array = get_filter_array(filter_shape = filter_shape)\n",
        "\n",
        "    shift_ = 80\n",
        "    shifted_array = np.hstack([np.zeros(shift_),all_trials, np.zeros(shift_)])\n",
        "\n",
        "    filtered_array = np.zeros_like(shifted_array)\n",
        "    for ii in range(shift_,250+shift_):\n",
        "        filtered = len(filter_array) * np.mean(shifted_array[ii-len(filter_array)//2:ii+len(filter_array)//2+1] * filter_array/np.sum(filter_array))\n",
        "        filtered_array[ii] = filtered\n",
        "\n",
        "\n",
        "    ax_2.plot(X,filtered_array[shift_:-shift_])\n",
        "    ax_2.set(\n",
        "        xlabel = 'Time in ms',\n",
        "        ylabel = 'Smooth PSTH',\n",
        "\n",
        "    )\n",
        "\n",
        "\n",
        "\n",
        "widgets.interactive(multiple_trials,\n",
        "                    neuron_id = (0,100,1),\n",
        "                   filter_shape = get_filter_array(return_filter_names = True))"
      ]
    },
    {
      "cell_type": "markdown",
      "id": "fdb379b0",
      "metadata": {
        "id": "fdb379b0"
      },
      "source": [
        "## [A more detailed lecture on spikes to rates](https://www.youtube.com/watch?v=Ef7_qnLOh70)\n",
        "\n",
        "## [Philosophy of the Spike: Rate-Based vs. Spike-Based Theories of the Brain](https://www.frontiersin.org/articles/10.3389/fnsys.2015.00151/full)"
      ]
    },
    {
      "cell_type": "markdown",
      "id": "dc233f27",
      "metadata": {
        "id": "dc233f27"
      },
      "source": [
        "---\n",
        "# Section 2: Optimization and Information\n",
        "\n",
        "(This is in part taken from the [neuromatch academy](https://compneuro.neuromatch.io/tutorials/W1D1_ModelTypes/student/W1D1_Tutorial3.html) , an amazing resource for neuroscience content)\n",
        "\n",
        "Neurons can only fire so often in a fixed period of time, as the act of emitting a spike consumes energy that is depleted and must eventually be replenished. To communicate effectively for downstream computation, the neuron would need to make good use of its limited spiking capability. This becomes an optimization problem:\n",
        "\n",
        "What is the optimal way for a neuron to fire in order to maximize its ability to communicate information?\n",
        "\n",
        "In order to explore this question, we first need to have a quantifiable measure for information. Shannon introduced the concept of entropy to do just that, and defined it as\n",
        "\n",
        "\\begin{equation}\n",
        "H_b(X) = -\\sum_{x\\in X} p(x) \\log_b p(x)\n",
        "\\end{equation}\n",
        "\n",
        "where $H$ is entropy measured in units of base $b$ and $p(x)$ is the probability of observing the event $x$ from the set of all possible events in $X$. See the Bonus Section 1 for a more detailed look at how this equation was derived.\n",
        "\n",
        "The most common base of measuring entropy is $b=2$, so we often talk about *bits* of information, though other bases are used as well (e.g. when $b=e$ we call the units *nats*).\n",
        "\n",
        "First, let's explore how entropy changes between some simple discrete probability distributions. In the rest of this exercise we will refer to these as probability mass functions (PMF), where $p(x_i)$ equals the $i^{th}$ value in an array, and mass refers to how much of the distribution is contained at that value.\n",
        "\n",
        "### Now we look at a very simple PMF\n"
      ]
    },
    {
      "cell_type": "code",
      "execution_count": null,
      "id": "2e6d5538",
      "metadata": {
        "id": "2e6d5538",
        "outputId": "1e5c451f-ed6f-40d3-c76c-6a01eced8f51"
      },
      "outputs": [
        {
          "data": {
            "image/png": "[encoded data removed]",
            "text/plain": [
              "<Figure size 800x600 with 1 Axes>"
            ]
          },
          "metadata": {},
          "output_type": "display_data"
        }
      ],
      "source": [
        "n_bins = 50  # number of points supporting the distribution\n",
        "x_range = [0,1]\n",
        "bins = np.linspace(*x_range, n_bins + 1)  # bin edges\n",
        "\n",
        "pmf = np.zeros(n_bins)\n",
        "pmf[len(pmf) // 2] = 1.0  # middle point has all the mass\n",
        "\n",
        "\n",
        "pmf_ = np.insert(pmf, 0, pmf[0])  # this is necessary to align plot steps with bin edges\n",
        "fig, ax = plt.subplots()\n",
        "ax.plot(bins, pmf_, drawstyle=\"steps\")\n",
        "# `fill_between` provides area shading\n",
        "ax.fill_between(bins, pmf_, step=\"pre\", alpha=0.4)\n",
        "\n",
        "ax.set(\n",
        "    xlabel = \"x\",\n",
        "    ylabel = \"p(x)\",\n",
        "    xlim = x_range,\n",
        "    ylim = (0, 1));"
      ]
    },
    {
      "cell_type": "markdown",
      "id": "68c8f521",
      "metadata": {
        "id": "68c8f521"
      },
      "source": [
        "If we were to draw a sample from this distribution, we know exactly what we would get every time. Distributions where all the mass is concentrated on a single event are known as *deterministic*.\n",
        "\n",
        "### Task 3 - How much entropy is contained in a deterministic distribution?\n",
        "\n",
        "implement the entropy function (see equation above) to calculate the entropy of PMFs in bits."
      ]
    },
    {
      "cell_type": "code",
      "execution_count": null,
      "id": "6a2f9772",
      "metadata": {
        "id": "6a2f9772",
        "outputId": "f73f198c-4bd9-4d6f-e925-924ef0ef4df4"
      },
      "outputs": [
        {
          "name": "stdout",
          "output_type": "stream",
          "text": [
            "0.00 bits\n"
          ]
        }
      ],
      "source": [
        "def entropy(pmf):\n",
        "  '''\n",
        "  Given a discrete distribution, return the Shannon entropy in bits.\n",
        "  This is a measure of information in the distribution.\n",
        "  '''\n",
        "\n",
        "  return 0 ## you need to remove this line\n",
        "\n",
        "  # reduce to non-zero entries to avoid an error from log2(0)\n",
        "  pmf = ...\n",
        "\n",
        "  # implement the equation for Shannon entropy (in bits)\n",
        "  h = ...\n",
        "\n",
        "  # return the absolute value (avoids getting a -0 result)\n",
        "  return np.abs(h)\n",
        "\n",
        "\n",
        "# Call entropy function and print result\n",
        "print(f\"{entropy(pmf):.2f} bits\")"
      ]
    },
    {
      "cell_type": "markdown",
      "id": "34240c06",
      "metadata": {
        "id": "34240c06"
      },
      "source": [
        "### [Solution Taks 3](https://raw.githubusercontent.com/comp-neural-circuits/intro-to-comp-neuro/dev/notebooks/Exc_4/solutions/55fb97641ef3f37a13eed8e5a19f663a.txt)\n",
        "\n",
        "\n",
        "\n"
      ]
    },
    {
      "cell_type": "markdown",
      "id": "56418f54",
      "metadata": {
        "id": "56418f54"
      },
      "source": [
        "### What is the entropy of?\n",
        "\n",
        "A mass split equally between two points?"
      ]
    },
    {
      "cell_type": "code",
      "execution_count": null,
      "id": "0293b926",
      "metadata": {
        "id": "0293b926",
        "outputId": "5a6c269f-ae5c-413a-ce21-138d8e18a9e5"
      },
      "outputs": [
        {
          "name": "stdout",
          "output_type": "stream",
          "text": [
            "0.00 bits\n"
          ]
        },
        {
          "data": {
            "image/png": "[encoded data removed]",
            "text/plain": [
              "<Figure size 800x600 with 1 Axes>"
            ]
          },
          "metadata": {},
          "output_type": "display_data"
        }
      ],
      "source": [
        "pmf = np.zeros(n_bins)\n",
        "pmf[len(pmf) // 3] = 0.5\n",
        "pmf[2 * len(pmf) // 3] = 0.5\n",
        "\n",
        "pmf_ = np.insert(pmf, 0, pmf[0])\n",
        "fig, ax = plt.subplots()\n",
        "ax.plot(bins, pmf_, drawstyle=\"steps\")\n",
        "ax.fill_between(bins, pmf_, step=\"pre\", alpha=0.4)\n",
        "ax.set(\n",
        "    xlabel = \"x\",\n",
        "    ylabel = \"p(x)\",\n",
        "    xlim = x_range,\n",
        "    ylim = (0, 1));\n",
        "\n",
        "# Call entropy function and print result\n",
        "print(f\"{entropy(pmf):.2f} bits\")"
      ]
    },
    {
      "cell_type": "markdown",
      "id": "dfa59b33",
      "metadata": {
        "id": "dfa59b33"
      },
      "source": [
        "Here, the entropy calculation is: $-(0.5 \\log_2 0.5 + 0.5\\log_2 0.5)=1$\n",
        "\n",
        "There is 1 bit of entropy. This means that before we take a random sample, there is 1 bit of uncertainty about which point in the distribution the sample will fall on: it will either be the first peak or the second one.\n",
        "\n",
        "Likewise, if we make one of the peaks taller (i.e. its point holds more of the probability mass) and the other one shorter, the entropy will decrease because of the increased certainty that the sample will fall on one point and not the other: :  −(0.2log20.2+0.8log20.8)≈0.72\n",
        "\n",
        "### Task 4\n",
        "\n",
        "Try changing the definition of the number and weighting of peaks, and see how the entropy varies.\n",
        "\n",
        "What is the maximum entropy you can achieve?"
      ]
    },
    {
      "cell_type": "code",
      "execution_count": null,
      "id": "5fe91035",
      "metadata": {
        "id": "5fe91035",
        "outputId": "23d8f85f-3a20-4efc-cc6f-e254f8edc1fe"
      },
      "outputs": [
        {
          "name": "stdout",
          "output_type": "stream",
          "text": [
            "0.00 bits\n"
          ]
        },
        {
          "data": {
            "image/png": "[encoded data removed]",
            "text/plain": [
              "<Figure size 800x600 with 1 Axes>"
            ]
          },
          "metadata": {},
          "output_type": "display_data"
        }
      ],
      "source": [
        "n_bins = 50\n",
        "pmf = np.zeros(n_bins)\n",
        "pmf[len(pmf) // 3] = 0.5\n",
        "pmf[2 * len(pmf) // 3] = 0.5\n",
        "\n",
        "pmf_ = np.insert(pmf, 0, pmf[0])\n",
        "fig, ax = plt.subplots()\n",
        "ax.plot(bins, pmf_, drawstyle=\"steps\")\n",
        "ax.fill_between(bins, pmf_, step=\"pre\", alpha=0.4)\n",
        "ax.set(\n",
        "    xlabel = \"x\",\n",
        "    ylabel = \"p(x)\",\n",
        "    xlim = x_range,\n",
        "    ylim = (0, 1));\n",
        "\n",
        "# Call entropy function and print result\n",
        "print(f\"{entropy(pmf):.2f} bits\")"
      ]
    },
    {
      "cell_type": "markdown",
      "id": "f70b07be",
      "metadata": {
        "id": "f70b07be"
      },
      "source": [
        "### [Solution 4](https://raw.githubusercontent.com/comp-neural-circuits/intro-to-comp-neuro/dev/notebooks/Exc_4/solutions/52e697641ef3f37a5faed8e5a19f663a.txt)\n",
        "\n"
      ]
    },
    {
      "cell_type": "markdown",
      "id": "f093ca2f",
      "metadata": {
        "id": "f093ca2f"
      },
      "source": [
        "### Task 5\n",
        "\n",
        "Now let's think about spike coding in neurons. Assuming that the information is encoded in the interspike-intervals, we can now ask how much information different types of neurons contain.\n",
        "\n",
        "Let's assume three different neurons that have the following ISI distributions:\n",
        "\n",
        "1) Deterministic\n",
        "2) Uniform\n",
        "3) Exponential\n",
        "\n",
        "In addition, we now add a constraint. In order to fire, neurons consume energy, therefore we constraint the number of spikes a neuron can emmit. This means we constrain the firing rate. The firing rate is the inverse of the mean of the Inter-Spike-Interval (ISI) distribution (this will be discussed in the next lecture in more detail)\n",
        "\n",
        "Now we can ask the question:\n",
        "If the neuron has a fixed bugdet of spikes, what is the ISI distribution it should express in order to transmit the most information?"
      ]
    },
    {
      "cell_type": "code",
      "execution_count": null,
      "id": "1dd2ed1d",
      "metadata": {
        "id": "1dd2ed1d",
        "outputId": "5407bb1a-7299-4482-94ac-fcd2cf09b0db"
      },
      "outputs": [
        {
          "data": {
            "image/png": "[encoded data removed]",
            "text/plain": [
              "<Figure size 1800x500 with 3 Axes>"
            ]
          },
          "metadata": {},
          "output_type": "display_data"
        }
      ],
      "source": [
        "n_bins = 50\n",
        "mean_isi = 250\n",
        "isi_range = (0, 2500)\n",
        "\n",
        "bins = np.linspace(*isi_range, n_bins + 1)\n",
        "mean_idx = np.searchsorted(bins, mean_isi)\n",
        "\n",
        "# 1. all mass concentrated on the ISI mean\n",
        "pmf_single = np.zeros(n_bins)\n",
        "pmf_single[mean_idx] = 1.0\n",
        "\n",
        "# 2. mass uniformly distributed about the ISI mean\n",
        "pmf_uniform = np.zeros(n_bins)\n",
        "pmf_uniform[0:2*mean_idx] = 1 / (2 * mean_idx)\n",
        "\n",
        "# 3. mass exponentially distributed about the ISI mean\n",
        "pmf_exp = scipy.stats.expon.pdf(bins[1:], scale=mean_isi)\n",
        "pmf_exp /= np.sum(pmf_exp)\n",
        "\n",
        "fig, axes = plt.subplots(1,3, figsize=(18, 5))\n",
        "\n",
        "dists =  [# (subplot title, pmf, ylim)\n",
        "          (\"Deterministic\", pmf_single, (0, 1.05)),\n",
        "          (\"Uniform\", pmf_uniform, (0, 1.05)),\n",
        "          (\"Exponential\", pmf_exp, (0, 1.05))]\n",
        "\n",
        "for ax, (label, pmf_, ylim) in zip(axes, dists):\n",
        "\n",
        "  pmf_ = np.insert(pmf_, 0, pmf_[0])\n",
        "  ax.plot(bins, pmf_, drawstyle=\"steps\")\n",
        "  ax.fill_between(bins, pmf_, step=\"pre\", alpha=0.4)\n",
        "  ax.set_title(label)\n",
        "  ax.set_xlabel(\"Inter-spike interval (ms)\")\n",
        "  ax.set_ylabel(\"Probability mass\")\n",
        "  ax.set_xlim((0,2000));\n",
        "  ax.set_ylim(ylim);"
      ]
    },
    {
      "cell_type": "code",
      "execution_count": null,
      "id": "7481b34c",
      "metadata": {
        "id": "7481b34c",
        "outputId": "0afd2d9b-2b3f-48a3-c0e7-e8320a7314bb"
      },
      "outputs": [
        {
          "name": "stdout",
          "output_type": "stream",
          "text": [
            "Deterministic: 0.00 bits\n",
            "Uniform: 0.00 bits\n",
            "Exponential: 0.00 bits\n"
          ]
        }
      ],
      "source": [
        "print(\n",
        "  f\"Deterministic: {entropy(pmf_single):.2f} bits\",\n",
        "  f\"Uniform: {entropy(pmf_uniform):.2f} bits\",\n",
        "  f\"Exponential: {entropy(pmf_exp):.2f} bits\",\n",
        "  sep=\"\\n\",\n",
        ")"
      ]
    },
    {
      "cell_type": "markdown",
      "id": "d9e42fb4",
      "metadata": {
        "id": "d9e42fb4"
      },
      "source": [
        "Under the constraint of a fixed number of spikes, the exponential distribution is actually the better choice then the uniform distribution, since it contains highly surprising elements (few very long ISIs)\n",
        "\n",
        "But how does this work in combination with the statement we had above about the uniform distribution having the highest entropy?"
      ]
    },
    {
      "cell_type": "markdown",
      "id": "1a371fef",
      "metadata": {
        "id": "1a371fef"
      },
      "source": [
        "We can now look at real neurons from the exampe in the beginning again. Therefore we need to create a histogram of the ISIs of these neurons. We can do this either in the passive condition (no stimulus shown - 'spks_passive') or in the active condition 'spks'. (you can change it in the code below)\n",
        "\n",
        "We can gather all ISIs across the different trials. Then, we need to normalize the histogram in order to get a PMF.\n",
        "This we can then use again to calculate the Information that the spikes contain."
      ]
    },
    {
      "cell_type": "code",
      "execution_count": null,
      "id": "1cc0f3b4",
      "metadata": {
        "lines_to_next_cell": 0,
        "id": "1cc0f3b4",
        "outputId": "1cc0ba3e-7fd4-496c-f908-1b9a0b2bb660",
        "colab": {
          "referenced_widgets": [
            "880088c049d94118a4ab02e6aea2e536"
          ]
        }
      },
      "outputs": [
        {
          "data": {
            "application/vnd.jupyter.widget-view+json": {
              "model_id": "880088c049d94118a4ab02e6aea2e536",
              "version_major": 2,
              "version_minor": 0
            },
            "text/plain": [
              "interactive(children=(IntSlider(value=14, description='neuron_idx'), Output()), _dom_classes=('widget-interact…"
            ]
          },
          "metadata": {},
          "output_type": "display_data"
        }
      ],
      "source": [
        "def entropy_of_real_neruons(neuron_idx = 14):\n",
        "    all_isi = np.array([])\n",
        "    for ii in range(150):\n",
        "        _, spike_times = transform_to_event_input(dat['spks_passive'][neuron_idx,ii,:])\n",
        "        if len(spike_times) > 1: # we this to avoid artefacts\n",
        "            isi = np.diff(np.sort(spike_times))\n",
        "            all_isi = np.hstack([all_isi,isi])\n",
        "    #         ax.eventplot(spike_times, lineoffsets=ii)\n",
        "\n",
        "    bins = np.linspace(0,2100, 50 + 1)\n",
        "    counts, _ = np.histogram(all_isi, bins)\n",
        "\n",
        "    pmf = counts / np.sum(counts) # we create a pmf as above by normalizing\n",
        "\n",
        "    ymax = max(0.2, 1.05 * np.max(pmf))\n",
        "    pmf_ = np.insert(pmf, 0, pmf[0])\n",
        "\n",
        "    fig, ax = plt.subplots()\n",
        "    ax.plot(bins, pmf_, drawstyle=\"steps\")\n",
        "    ax.fill_between(bins, pmf_, step=\"pre\", alpha=0.4)\n",
        "\n",
        "    ax.set(title = f\"Neuron {neuron_idx} with {entropy(pmf):.2f} bits\",\n",
        "           xlabel = \"Inter-spike interval (ms)\",\n",
        "           ylabel = \"Probability mass\",\n",
        "           xlim  = [0, 2100],\n",
        "           ylim  = [0, ymax])\n",
        "\n",
        "widgets.interactive(entropy_of_real_neruons, neuron_idx = (0,100,1))"
      ]
    },
    {
      "cell_type": "code",
      "execution_count": null,
      "id": "265d44ee",
      "metadata": {
        "lines_to_next_cell": 2,
        "id": "265d44ee"
      },
      "outputs": [],
      "source": []
    }
  ],
  "metadata": {
    "jupytext": {
      "formats": "ipynb,py:light"
    },
    "kernelspec": {
      "display_name": "intro-to-comp-neuro",
      "language": "python",
      "name": "intro-to-comp-neuro"
    },
    "language_info": {
      "codemirror_mode": {
        "name": "ipython",
        "version": 3
      },
      "file_extension": ".py",
      "mimetype": "text/x-python",
      "name": "python",
      "nbconvert_exporter": "python",
      "pygments_lexer": "ipython3",
      "version": "3.9.0"
    },
    "colab": {
      "provenance": []
    },
    "widgets": {
      "application/vnd.jupyter.widget-state+json": {
        "cfde08a6cbc04a66ab94480aa952cc6e": {
          "model_module": "@jupyter-widgets/controls",
          "model_name": "VBoxModel",
          "model_module_version": "1.5.0",
          "state": {
            "_dom_classes": [
              "widget-interact"
            ],
            "_model_module": "@jupyter-widgets/controls",
            "_model_module_version": "1.5.0",
            "_model_name": "VBoxModel",
            "_view_count": null,
            "_view_module": "@jupyter-widgets/controls",
            "_view_module_version": "1.5.0",
            "_view_name": "VBoxView",
            "box_style": "",
            "children": [
              "IPY_MODEL_96efbf4b91684ac48d56412d65e499e6",
              "IPY_MODEL_53c79da953d24e4e8068ac6840ea1a0c",
              "IPY_MODEL_e670fbebcd0940c9bcc738935a36dc8e",
              "IPY_MODEL_0419ee1e95a2474aafb814ce89711a12"
            ],
            "layout": "IPY_MODEL_e37e87b774de4bc18a55c8d6c35f0772"
          }
        },
        "96efbf4b91684ac48d56412d65e499e6": {
          "model_module": "@jupyter-widgets/controls",
          "model_name": "IntSliderModel",
          "model_module_version": "1.5.0",
          "state": {
            "_dom_classes": [],
            "_model_module": "@jupyter-widgets/controls",
            "_model_module_version": "1.5.0",
            "_model_name": "IntSliderModel",
            "_view_count": null,
            "_view_module": "@jupyter-widgets/controls",
            "_view_module_version": "1.5.0",
            "_view_name": "IntSliderView",
            "continuous_update": true,
            "description": "pos",
            "description_tooltip": null,
            "disabled": false,
            "layout": "IPY_MODEL_7d2422790871492f9951b8c2825cb523",
            "max": 250,
            "min": 0,
            "orientation": "horizontal",
            "readout": true,
            "readout_format": "d",
            "step": 1,
            "style": "IPY_MODEL_2c2c0eb1bb274eec8fbedb1adea0cd9d",
            "value": 184
          }
        },
        "53c79da953d24e4e8068ac6840ea1a0c": {
          "model_module": "@jupyter-widgets/controls",
          "model_name": "DropdownModel",
          "model_module_version": "1.5.0",
          "state": {
            "_dom_classes": [],
            "_model_module": "@jupyter-widgets/controls",
            "_model_module_version": "1.5.0",
            "_model_name": "DropdownModel",
            "_options_labels": [
              "rectangle"
            ],
            "_view_count": null,
            "_view_module": "@jupyter-widgets/controls",
            "_view_module_version": "1.5.0",
            "_view_name": "DropdownView",
            "description": "filter_shape",
            "description_tooltip": null,
            "disabled": false,
            "index": 0,
            "layout": "IPY_MODEL_d42cd1027b6044aaac79d12352f4a31d",
            "style": "IPY_MODEL_c288d3b2a02f4079bf15084ae53d3ef6"
          }
        },
        "e670fbebcd0940c9bcc738935a36dc8e": {
          "model_module": "@jupyter-widgets/controls",
          "model_name": "IntSliderModel",
          "model_module_version": "1.5.0",
          "state": {
            "_dom_classes": [],
            "_model_module": "@jupyter-widgets/controls",
            "_model_module_version": "1.5.0",
            "_model_name": "IntSliderModel",
            "_view_count": null,
            "_view_module": "@jupyter-widgets/controls",
            "_view_module_version": "1.5.0",
            "_view_name": "IntSliderView",
            "continuous_update": true,
            "description": "trial_number",
            "description_tooltip": null,
            "disabled": false,
            "layout": "IPY_MODEL_fea2a436104443cb93f812df2e104cd3",
            "max": 100,
            "min": 0,
            "orientation": "horizontal",
            "readout": true,
            "readout_format": "d",
            "step": 1,
            "style": "IPY_MODEL_49fbfe2510d1432abe966030b2dbd1ab",
            "value": 43
          }
        },
        "0419ee1e95a2474aafb814ce89711a12": {
          "model_module": "@jupyter-widgets/output",
          "model_name": "OutputModel",
          "model_module_version": "1.0.0",
          "state": {
            "_dom_classes": [],
            "_model_module": "@jupyter-widgets/output",
            "_model_module_version": "1.0.0",
            "_model_name": "OutputModel",
            "_view_count": null,
            "_view_module": "@jupyter-widgets/output",
            "_view_module_version": "1.0.0",
            "_view_name": "OutputView",
            "layout": "IPY_MODEL_cde7fb065b634b2ebd722137fabf5490",
            "msg_id": "",
            "outputs": []
          }
        },
        "e37e87b774de4bc18a55c8d6c35f0772": {
          "model_module": "@jupyter-widgets/base",
          "model_name": "LayoutModel",
          "model_module_version": "1.2.0",
          "state": {
            "_model_module": "@jupyter-widgets/base",
            "_model_module_version": "1.2.0",
            "_model_name": "LayoutModel",
            "_view_count": null,
            "_view_module": "@jupyter-widgets/base",
            "_view_module_version": "1.2.0",
            "_view_name": "LayoutView",
            "align_content": null,
            "align_items": null,
            "align_self": null,
            "border": null,
            "bottom": null,
            "display": null,
            "flex": null,
            "flex_flow": null,
            "grid_area": null,
            "grid_auto_columns": null,
            "grid_auto_flow": null,
            "grid_auto_rows": null,
            "grid_column": null,
            "grid_gap": null,
            "grid_row": null,
            "grid_template_areas": null,
            "grid_template_columns": null,
            "grid_template_rows": null,
            "height": null,
            "justify_content": null,
            "justify_items": null,
            "left": null,
            "margin": null,
            "max_height": null,
            "max_width": null,
            "min_height": null,
            "min_width": null,
            "object_fit": null,
            "object_position": null,
            "order": null,
            "overflow": null,
            "overflow_x": null,
            "overflow_y": null,
            "padding": null,
            "right": null,
            "top": null,
            "visibility": null,
            "width": null
          }
        },
        "7d2422790871492f9951b8c2825cb523": {
          "model_module": "@jupyter-widgets/base",
          "model_name": "LayoutModel",
          "model_module_version": "1.2.0",
          "state": {
            "_model_module": "@jupyter-widgets/base",
            "_model_module_version": "1.2.0",
            "_model_name": "LayoutModel",
            "_view_count": null,
            "_view_module": "@jupyter-widgets/base",
            "_view_module_version": "1.2.0",
            "_view_name": "LayoutView",
            "align_content": null,
            "align_items": null,
            "align_self": null,
            "border": null,
            "bottom": null,
            "display": null,
            "flex": null,
            "flex_flow": null,
            "grid_area": null,
            "grid_auto_columns": null,
            "grid_auto_flow": null,
            "grid_auto_rows": null,
            "grid_column": null,
            "grid_gap": null,
            "grid_row": null,
            "grid_template_areas": null,
            "grid_template_columns": null,
            "grid_template_rows": null,
            "height": null,
            "justify_content": null,
            "justify_items": null,
            "left": null,
            "margin": null,
            "max_height": null,
            "max_width": null,
            "min_height": null,
            "min_width": null,
            "object_fit": null,
            "object_position": null,
            "order": null,
            "overflow": null,
            "overflow_x": null,
            "overflow_y": null,
            "padding": null,
            "right": null,
            "top": null,
            "visibility": null,
            "width": null
          }
        },
        "2c2c0eb1bb274eec8fbedb1adea0cd9d": {
          "model_module": "@jupyter-widgets/controls",
          "model_name": "SliderStyleModel",
          "model_module_version": "1.5.0",
          "state": {
            "_model_module": "@jupyter-widgets/controls",
            "_model_module_version": "1.5.0",
            "_model_name": "SliderStyleModel",
            "_view_count": null,
            "_view_module": "@jupyter-widgets/base",
            "_view_module_version": "1.2.0",
            "_view_name": "StyleView",
            "description_width": "",
            "handle_color": null
          }
        },
        "d42cd1027b6044aaac79d12352f4a31d": {
          "model_module": "@jupyter-widgets/base",
          "model_name": "LayoutModel",
          "model_module_version": "1.2.0",
          "state": {
            "_model_module": "@jupyter-widgets/base",
            "_model_module_version": "1.2.0",
            "_model_name": "LayoutModel",
            "_view_count": null,
            "_view_module": "@jupyter-widgets/base",
            "_view_module_version": "1.2.0",
            "_view_name": "LayoutView",
            "align_content": null,
            "align_items": null,
            "align_self": null,
            "border": null,
            "bottom": null,
            "display": null,
            "flex": null,
            "flex_flow": null,
            "grid_area": null,
            "grid_auto_columns": null,
            "grid_auto_flow": null,
            "grid_auto_rows": null,
            "grid_column": null,
            "grid_gap": null,
            "grid_row": null,
            "grid_template_areas": null,
            "grid_template_columns": null,
            "grid_template_rows": null,
            "height": null,
            "justify_content": null,
            "justify_items": null,
            "left": null,
            "margin": null,
            "max_height": null,
            "max_width": null,
            "min_height": null,
            "min_width": null,
            "object_fit": null,
            "object_position": null,
            "order": null,
            "overflow": null,
            "overflow_x": null,
            "overflow_y": null,
            "padding": null,
            "right": null,
            "top": null,
            "visibility": null,
            "width": null
          }
        },
        "c288d3b2a02f4079bf15084ae53d3ef6": {
          "model_module": "@jupyter-widgets/controls",
          "model_name": "DescriptionStyleModel",
          "model_module_version": "1.5.0",
          "state": {
            "_model_module": "@jupyter-widgets/controls",
            "_model_module_version": "1.5.0",
            "_model_name": "DescriptionStyleModel",
            "_view_count": null,
            "_view_module": "@jupyter-widgets/base",
            "_view_module_version": "1.2.0",
            "_view_name": "StyleView",
            "description_width": ""
          }
        },
        "fea2a436104443cb93f812df2e104cd3": {
          "model_module": "@jupyter-widgets/base",
          "model_name": "LayoutModel",
          "model_module_version": "1.2.0",
          "state": {
            "_model_module": "@jupyter-widgets/base",
            "_model_module_version": "1.2.0",
            "_model_name": "LayoutModel",
            "_view_count": null,
            "_view_module": "@jupyter-widgets/base",
            "_view_module_version": "1.2.0",
            "_view_name": "LayoutView",
            "align_content": null,
            "align_items": null,
            "align_self": null,
            "border": null,
            "bottom": null,
            "display": null,
            "flex": null,
            "flex_flow": null,
            "grid_area": null,
            "grid_auto_columns": null,
            "grid_auto_flow": null,
            "grid_auto_rows": null,
            "grid_column": null,
            "grid_gap": null,
            "grid_row": null,
            "grid_template_areas": null,
            "grid_template_columns": null,
            "grid_template_rows": null,
            "height": null,
            "justify_content": null,
            "justify_items": null,
            "left": null,
            "margin": null,
            "max_height": null,
            "max_width": null,
            "min_height": null,
            "min_width": null,
            "object_fit": null,
            "object_position": null,
            "order": null,
            "overflow": null,
            "overflow_x": null,
            "overflow_y": null,
            "padding": null,
            "right": null,
            "top": null,
            "visibility": null,
            "width": null
          }
        },
        "49fbfe2510d1432abe966030b2dbd1ab": {
          "model_module": "@jupyter-widgets/controls",
          "model_name": "SliderStyleModel",
          "model_module_version": "1.5.0",
          "state": {
            "_model_module": "@jupyter-widgets/controls",
            "_model_module_version": "1.5.0",
            "_model_name": "SliderStyleModel",
            "_view_count": null,
            "_view_module": "@jupyter-widgets/base",
            "_view_module_version": "1.2.0",
            "_view_name": "StyleView",
            "description_width": "",
            "handle_color": null
          }
        },
        "cde7fb065b634b2ebd722137fabf5490": {
          "model_module": "@jupyter-widgets/base",
          "model_name": "LayoutModel",
          "model_module_version": "1.2.0",
          "state": {
            "_model_module": "@jupyter-widgets/base",
            "_model_module_version": "1.2.0",
            "_model_name": "LayoutModel",
            "_view_count": null,
            "_view_module": "@jupyter-widgets/base",
            "_view_module_version": "1.2.0",
            "_view_name": "LayoutView",
            "align_content": null,
            "align_items": null,
            "align_self": null,
            "border": null,
            "bottom": null,
            "display": null,
            "flex": null,
            "flex_flow": null,
            "grid_area": null,
            "grid_auto_columns": null,
            "grid_auto_flow": null,
            "grid_auto_rows": null,
            "grid_column": null,
            "grid_gap": null,
            "grid_row": null,
            "grid_template_areas": null,
            "grid_template_columns": null,
            "grid_template_rows": null,
            "height": null,
            "justify_content": null,
            "justify_items": null,
            "left": null,
            "margin": null,
            "max_height": null,
            "max_width": null,
            "min_height": null,
            "min_width": null,
            "object_fit": null,
            "object_position": null,
            "order": null,
            "overflow": null,
            "overflow_x": null,
            "overflow_y": null,
            "padding": null,
            "right": null,
            "top": null,
            "visibility": null,
            "width": null
          }
        }
      }
    }
  },
  "nbformat": 4,
  "nbformat_minor": 5
}